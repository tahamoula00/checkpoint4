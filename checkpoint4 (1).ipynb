{
  "nbformat": 4,
  "nbformat_minor": 0,
  "metadata": {
    "colab": {
      "name": "checkpoint4.ipynb",
      "provenance": []
    },
    "kernelspec": {
      "name": "python3",
      "display_name": "Python 3"
    },
    "language_info": {
      "name": "python"
    }
  },
  "cells": [
    {
      "cell_type": "markdown",
      "metadata": {
        "id": "bzIipZ1JpRSV"
      },
      "source": [
        "## Nouvelle section\n",
        "Question 1\n",
        "\n",
        "Write a Python function to find the Max of three numbers.\n",
        "\n",
        "for example, the max of these three numbers 20, 35, 19 is 35"
      ]
    },
    {
      "cell_type": "code",
      "metadata": {
        "id": "k-6Q40jSpP8K",
        "colab": {
          "base_uri": "https://localhost:8080/"
        },
        "outputId": "58c6eb76-ed69-4159-a294-401928041275"
      },
      "source": [
        "def Max():\n",
        "  a=float(input(\"give me a nmber\"))\n",
        "  b=float(input(\"give me a nmber\"))\n",
        "  c=float(input(\"give me a nmber\"))\n",
        "  if (a>b>c) or (a>c>b):\n",
        "    print(\"the maximum number\",a)\n",
        "  elif (b>a>c) or (b>c>a):\n",
        "    print(\"the maximum number\",b)\n",
        "  else:\n",
        "    print(\"the maximum number\",c)\n",
        "R=Max(55)\n"
      ],
      "execution_count": 51,
      "outputs": [
        {
          "output_type": "stream",
          "text": [
            "give me a nmber500\n",
            "give me a nmber200\n",
            "give me a nmber555\n",
            "the maximum number 555.0\n"
          ],
          "name": "stdout"
        }
      ]
    },
    {
      "cell_type": "markdown",
      "metadata": {
        "id": "KuZsrRBkrr0d"
      },
      "source": [
        ""
      ]
    },
    {
      "cell_type": "code",
      "metadata": {
        "id": "U0qthbRWrvyJ"
      },
      "source": [
        "#Question 2\n",
        "Write a function calculation() such that it can accept two variables and calculate the addition and subtraction of it. And also it must return both addition and subtraction in a single return call\n",
        "\n",
        "For example:\n",
        "\n",
        "calculation(40, 10) should produce 50, 30"
      ],
      "execution_count": null,
      "outputs": []
    },
    {
      "cell_type": "code",
      "metadata": {
        "colab": {
          "base_uri": "https://localhost:8080/"
        },
        "id": "57fNBwTGQj05",
        "outputId": "5c1bc4d1-e133-4b2c-c03e-ed832fddb645"
      },
      "source": [
        "def calculation():\n",
        "  a=int(input(\"donner le nombre1\"))\n",
        "  b=int(input(\"donner le nombre2\"))\n",
        "  print(a+b,a-b)\n",
        "calculation()\n",
        "\n"
      ],
      "execution_count": 50,
      "outputs": [
        {
          "output_type": "stream",
          "text": [
            "donner le nombre5\n",
            "donner le nombre8\n",
            "13 -3\n"
          ],
          "name": "stdout"
        }
      ]
    },
    {
      "cell_type": "markdown",
      "metadata": {
        "id": "IVl3zY9SaiKA"
      },
      "source": [
        "Question 3\n",
        "\n",
        "* Write a function that sums the elements of a list of integers.\n",
        "* Write a function that multiplies the elements of an integer list.\n",
        "* Use the two functions to sum the elements whose position is an even number (0,2,4…) and multiply the rest.\n",
        "Hint: Consider extracting two lists from a first list "
      ]
    },
    {
      "cell_type": "code",
      "metadata": {
        "colab": {
          "base_uri": "https://localhost:8080/"
        },
        "id": "NdiMPU6ucRnc",
        "outputId": "d17f0f9a-aed5-4698-ac1b-a94890714cc1"
      },
      "source": [
        "#question:\n",
        "def sum():\n",
        "  R=0\n",
        "  lst1=[25,80,77,2]\n",
        "  for i in range(0,len(lst1)):\n",
        "    R=R+lst1[i]\n",
        "  print(\"the sum of lst1 elements is:\",R)\n",
        "sum()\n",
        "def multp():\n",
        "  R=1\n",
        "  lst2=[52,2,15,9]\n",
        "  for i in range(0,len(lst2)):\n",
        "    R=R*lst2[i]\n",
        "  print(\"the mutipication of list2 elements is:\",R)\n",
        "multp()\n",
        "lst1=[2,85,2562,2]\n",
        "lst2=[5,48,5,125]\n",
        "def sum_multp(lst1,lst2):\n",
        "  for i in range(len(lst1)):\n",
        "    for i in range(len(lst2)):\n",
        "      if i%2==0:\n",
        "        print(lst1[i]+lst2[i])\n",
        "      else:\n",
        "        print(lst1[i]*lst2[i])\n",
        "sum_multp(lst1,lst2)"
      ],
      "execution_count": 16,
      "outputs": [
        {
          "output_type": "stream",
          "text": [
            "the sum of lst1 elements is: 184\n",
            "the mutipication of list2 elements is: 14040\n",
            "7\n",
            "4080\n",
            "2567\n",
            "250\n",
            "7\n",
            "4080\n",
            "2567\n",
            "250\n",
            "7\n",
            "4080\n",
            "2567\n",
            "250\n",
            "7\n",
            "4080\n",
            "2567\n",
            "250\n"
          ],
          "name": "stdout"
        }
      ]
    },
    {
      "cell_type": "markdown",
      "metadata": {
        "id": "MKmFO-tM5hZ8"
      },
      "source": [
        "Write a Python program that accepts a hyphen-separated sequence of words as input and prints the words in a hyphen-separated sequence after sorting them alphabetically.\n",
        "\n",
        "Sample Items : green-red-yellow-black-white\n",
        "Expected Result : black-green-red-white-yellow\n",
        "\n",
        "Hint : There's a split function to separate your input string into words and a sort function to sort."
      ]
    },
    {
      "cell_type": "code",
      "metadata": {
        "colab": {
          "base_uri": "https://localhost:8080/"
        },
        "id": "eoEOr8PC5k0e",
        "outputId": "604473d9-955c-4515-9d9c-9800f0b58c17"
      },
      "source": [
        "#Quetsion4:\n",
        "N=str(input(\"donner ta phrase:\"))\n",
        "N1=N.split(\"-\")\n",
        "print(N1)\n",
        "N1.sort()\n",
        "print(N1)\n",
        "    \n"
      ],
      "execution_count": 17,
      "outputs": [
        {
          "output_type": "stream",
          "text": [
            "donner ta phrase:taha-america-black\n",
            "['taha', 'america', 'black']\n",
            "['america', 'black', 'taha']\n"
          ],
          "name": "stdout"
        }
      ]
    },
    {
      "cell_type": "markdown",
      "metadata": {
        "id": "uUNiA4V5jyzx"
      },
      "source": [
        "Write a function that calculates and prints the value according to the given formula: Q = Square root of [(2 * C * D)/H] Following are the fixed values of C and H: C is 50. H is 30. D is the variable whose values should be input to your program in a comma-separated sequence. Example Let us assume the following comma separated input sequence is given to the function: 100,150,180 The output of the program should be: 18,22,24 \n",
        "\n",
        "Hints: If the output received is in decimal form, it should be rounded off to its nearest value (for example, if the output received is 26.0, it should be printed as 26) In case of input data being supplied to the question, it should be assumed to be a console input. "
      ]
    },
    {
      "cell_type": "code",
      "metadata": {
        "colab": {
          "base_uri": "https://localhost:8080/"
        },
        "id": "kBkvSxwpjx8M",
        "outputId": "2f3a17b3-792b-4707-d822-d816ba4a7ca4"
      },
      "source": [
        "from math import*\n",
        "def calculation():\n",
        "  C=50\n",
        "  H=30\n",
        "  D=int(input(\"give the value of D:\"))\n",
        "  Q=sqrt((2*C*D)/H)\n",
        "  print(round(Q))\n",
        "calculation()"
      ],
      "execution_count": 28,
      "outputs": [
        {
          "output_type": "stream",
          "text": [
            "give the value of D:180\n",
            "24\n"
          ],
          "name": "stdout"
        }
      ]
    }
  ]
}